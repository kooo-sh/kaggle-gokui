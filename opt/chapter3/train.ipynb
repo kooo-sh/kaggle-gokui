{
 "cells": [
  {
   "cell_type": "code",
   "execution_count": 1,
   "metadata": {},
   "outputs": [
    {
     "name": "stdout",
     "output_type": "stream",
     "text": [
      "Model is on device: cpu\n",
      "Model is on device: mps:0\n"
     ]
    },
    {
     "name": "stderr",
     "output_type": "stream",
     "text": [
      "100%|██████████| 15/15 [00:57<00:00,  3.85s/it]\n",
      "100%|██████████| 16/16 [00:52<00:00,  3.31s/it]\n",
      "100%|██████████| 1/1 [01:50<00:00, 110.68s/it]"
     ]
    },
    {
     "name": "stdout",
     "output_type": "stream",
     "text": [
      "epoch=0, train loss=1.2241542091369628, train accuracy=0.656000018119812, val loss=0.7341416249275208, val accuracy=0.49000000953674316\n",
      "Batch 64 Elapsed time: 111.85157895088196 [sec]\n"
     ]
    },
    {
     "name": "stderr",
     "output_type": "stream",
     "text": [
      "\n"
     ]
    }
   ],
   "source": [
    "# 学習の実行 (dryrun)\n",
    "from train_val import train_subsec5\n",
    "import time\n",
    "\n",
    "start = time.time()\n",
    "model = train_subsec5('dogs_vs_cats', 32, dryrun=True)\n",
    "end = time.time()\n",
    "print('Batch 32 Elapsed time: {} [sec]'.format(end - start))"
   ]
  },
  {
   "cell_type": "code",
   "execution_count": 1,
   "metadata": {},
   "outputs": [
    {
     "name": "stdout",
     "output_type": "stream",
     "text": [
      "Model is on device: cpu\n",
      "Model is on device: mps:0\n"
     ]
    },
    {
     "name": "stderr",
     "output_type": "stream",
     "text": [
      "100%|██████████| 625/625 [02:42<00:00,  3.86it/s]\n",
      "100%|██████████| 157/157 [01:09<00:00,  2.25it/s]\n",
      " 33%|███▎      | 1/3 [03:52<07:44, 232.07s/it]"
     ]
    },
    {
     "name": "stdout",
     "output_type": "stream",
     "text": [
      "epoch=0, train loss=0.13036158137116582, train accuracy=0.9451500177383423, val loss=0.07550788335502148, val accuracy=0.968999981880188\n",
      "features.0.weight: -6.45355976303108e-05\n",
      "features.0.bias: -0.38730666041374207\n",
      "features.3.weight: -0.003141520544886589\n",
      "features.3.bias: 0.0020984625443816185\n",
      "features.6.weight: -0.00294019584544003\n",
      "features.6.bias: 0.025322705507278442\n",
      "features.8.weight: -0.003083248157054186\n",
      "features.8.bias: 0.07243713736534119\n",
      "features.10.weight: -0.004101875703781843\n",
      "features.10.bias: 0.21924898028373718\n",
      "classifier.1.weight: -0.0005623652832582593\n",
      "classifier.1.bias: 0.006993114948272705\n",
      "classifier.4.weight: -0.001643629278987646\n",
      "classifier.4.bias: 0.03747101128101349\n",
      "classifier.6.weight: 0.0001501337974332273\n",
      "classifier.6.bias: -0.006619961000978947\n"
     ]
    },
    {
     "name": "stderr",
     "output_type": "stream",
     "text": [
      "100%|██████████| 625/625 [02:41<00:00,  3.88it/s]\n",
      "100%|██████████| 157/157 [01:06<00:00,  2.36it/s]\n",
      " 67%|██████▋   | 2/3 [07:39<03:49, 229.53s/it]"
     ]
    },
    {
     "name": "stdout",
     "output_type": "stream",
     "text": [
      "epoch=1, train loss=0.0849283719047904, train accuracy=0.9672499895095825, val loss=0.06914030513558536, val accuracy=0.9721999764442444\n",
      "features.0.weight: -7.571117748739198e-05\n",
      "features.0.bias: -0.38741016387939453\n",
      "features.3.weight: -0.0031367894262075424\n",
      "features.3.bias: 0.0020956171210855246\n",
      "features.6.weight: -0.00293926103040576\n",
      "features.6.bias: 0.025324717164039612\n",
      "features.8.weight: -0.003084697760641575\n",
      "features.8.bias: 0.07243403792381287\n",
      "features.10.weight: -0.004102668724954128\n",
      "features.10.bias: 0.21924492716789246\n",
      "classifier.1.weight: -0.0005618272698484361\n",
      "classifier.1.bias: 0.00699370913207531\n",
      "classifier.4.weight: -0.0016433404525741935\n",
      "classifier.4.bias: 0.03747136890888214\n",
      "classifier.6.weight: 0.0001501458464190364\n",
      "classifier.6.bias: -0.0066199274733662605\n"
     ]
    },
    {
     "name": "stderr",
     "output_type": "stream",
     "text": [
      "100%|██████████| 625/625 [02:41<00:00,  3.87it/s]\n",
      "100%|██████████| 157/157 [01:06<00:00,  2.38it/s]\n",
      "100%|██████████| 3/3 [11:27<00:00, 229.12s/it]"
     ]
    },
    {
     "name": "stdout",
     "output_type": "stream",
     "text": [
      "epoch=2, train loss=0.0741905329156667, train accuracy=0.970550000667572, val loss=0.06771567419860512, val accuracy=0.9739999771118164\n",
      "features.0.weight: -6.43992971163243e-05\n",
      "features.0.bias: -0.3874756991863251\n",
      "features.3.weight: -0.003130917437374592\n",
      "features.3.bias: 0.0020940019749104977\n",
      "features.6.weight: -0.002938969759270549\n",
      "features.6.bias: 0.025325125083327293\n",
      "features.8.weight: -0.0030863627325743437\n",
      "features.8.bias: 0.07243114709854126\n",
      "features.10.weight: -0.004103014245629311\n",
      "features.10.bias: 0.21924129128456116\n",
      "classifier.1.weight: -0.0005613853572867811\n",
      "classifier.1.bias: 0.006994244642555714\n",
      "classifier.4.weight: -0.0016430113464593887\n",
      "classifier.4.bias: 0.037471797317266464\n",
      "classifier.6.weight: 0.00015015763347037137\n",
      "classifier.6.bias: -0.006619899999350309\n",
      "Batch 32 Elapsed time: 688.0273232460022 [sec]\n"
     ]
    },
    {
     "name": "stderr",
     "output_type": "stream",
     "text": [
      "\n"
     ]
    }
   ],
   "source": [
    "# 学習の実行 (all data) epoch=3\n",
    "from train_val import train_subsec5\n",
    "import time\n",
    "\n",
    "start = time.time()\n",
    "model = train_subsec5('dogs_vs_cats', 32, dryrun=False, n_epochs=3)\n",
    "end = time.time()\n",
    "print('Batch 32 Elapsed time: {} [sec]'.format(end - start))"
   ]
  },
  {
   "cell_type": "code",
   "execution_count": 2,
   "metadata": {},
   "outputs": [
    {
     "name": "stderr",
     "output_type": "stream",
     "text": [
      "100%|██████████| 391/391 [01:10<00:00,  5.54it/s]\n"
     ]
    }
   ],
   "source": [
    "# testの予測と結果の保存\n",
    "from test_submit import predict_subsec5\n",
    "predict_subsec5('dogs_vs_cats', 'dogs_vs_cats', model, 32, dryrun=False)"
   ]
  },
  {
   "cell_type": "code",
   "execution_count": null,
   "metadata": {},
   "outputs": [],
   "source": []
  }
 ],
 "metadata": {
  "kernelspec": {
   "display_name": ".gpu_env",
   "language": "python",
   "name": "python3"
  },
  "language_info": {
   "codemirror_mode": {
    "name": "ipython",
    "version": 3
   },
   "file_extension": ".py",
   "mimetype": "text/x-python",
   "name": "python",
   "nbconvert_exporter": "python",
   "pygments_lexer": "ipython3",
   "version": "3.12.3"
  }
 },
 "nbformat": 4,
 "nbformat_minor": 2
}
